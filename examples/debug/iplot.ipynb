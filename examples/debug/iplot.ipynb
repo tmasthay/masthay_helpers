{
 "cells": [
  {
   "cell_type": "code",
   "execution_count": null,
   "id": "a0d3fb51-db95-49a6-ada7-d69e04faf4a3",
   "metadata": {},
   "outputs": [],
   "source": [
    "import pandas as pd\n",
    "import panel as pn\n",
    "import holoviews as hv\n",
    "import numpy as np\n",
    "import panel as pn\n",
    "import torch\n",
    "import sys\n",
    "from masthay_helpers.jupyter import iplot, plot_series, rules_one, rules_two\n",
    "from returns.curry import curry"
   ]
  },
  {
   "cell_type": "code",
   "execution_count": null,
   "id": "733ef049-eb17-4d65-9815-1e0f76fc68f1",
   "metadata": {},
   "outputs": [],
   "source": [
    "# Necessary setup from panel -- read docs if this confuses you.\n",
    "pn.extension()\n",
    "\n",
    "# Seed for reproducibility\n",
    "np.random.seed(0)\n",
    "\n",
    "# Setup the shape and populate random data\n",
    "data_shape = (3, 50, 50, 30, 20)\n",
    "variance = 100000.0\n",
    "random_data = variance * torch.randn(*data_shape)\n",
    "hv.extension(\"matplotlib\")\n",
    "print(hv.Store.current_backend)"
   ]
  },
  {
   "cell_type": "code",
   "execution_count": null,
   "id": "d672316f",
   "metadata": {},
   "outputs": [],
   "source": []
  },
  {
   "cell_type": "code",
   "execution_count": null,
   "id": "5ccb819b-5ebf-4fec-83d6-ce311551e483",
   "metadata": {},
   "outputs": [],
   "source": [
    "labels = [f\"Random_Data_{i}\" for i in range(data_shape[0])]\n",
    "column_names = [\"shot_no\", \"receiver_idx\", \"nonphysical_dummy\", \"time sample\"]\n",
    "rules = {\n",
    "    \"one\": rules_one(\n",
    "        opts_info={\"yscale\": {\"args\": (\"linear\",), \"kwargs\": {}}},\n",
    "        loop_info={\"labels\": labels},\n",
    "    ),\n",
    "    \"two\": rules_two(\n",
    "        opts_info={\"colorbar\": True},\n",
    "        loop_info={\"labels\": labels, \"yscale\": \"symlog\"},\n",
    "    ),\n",
    "}"
   ]
  },
  {
   "cell_type": "code",
   "execution_count": null,
   "id": "678aa15a",
   "metadata": {},
   "outputs": [],
   "source": [
    "import inspect\n",
    "\n",
    "u = plot_series(data=random_data, rules=rules, idx=[0, 0, 0])\n",
    "print(inspect.signature(u))"
   ]
  },
  {
   "cell_type": "code",
   "execution_count": null,
   "id": "70691b30",
   "metadata": {},
   "outputs": [],
   "source": [
    "layout = iplot(data=random_data, column_names=column_names, cols=2, rules=rules)\n",
    "layout.servable()"
   ]
  },
  {
   "cell_type": "code",
   "execution_count": null,
   "id": "36dcbc8c",
   "metadata": {},
   "outputs": [],
   "source": []
  }
 ],
 "metadata": {
  "kernelspec": {
   "display_name": "Python 3 (ipykernel)",
   "language": "python",
   "name": "python3"
  },
  "language_info": {
   "codemirror_mode": {
    "name": "ipython",
    "version": 3
   },
   "file_extension": ".py",
   "mimetype": "text/x-python",
   "name": "python",
   "nbconvert_exporter": "python",
   "pygments_lexer": "ipython3",
   "version": "3.10.12"
  }
 },
 "nbformat": 4,
 "nbformat_minor": 5
}
