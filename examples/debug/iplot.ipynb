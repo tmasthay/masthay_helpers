{
 "cells": [
  {
   "cell_type": "code",
   "execution_count": 1,
   "id": "a0d3fb51-db95-49a6-ada7-d69e04faf4a3",
   "metadata": {},
   "outputs": [
    {
     "name": "stdout",
     "output_type": "stream",
     "text": [
      "/home/tyler/anaconda3/envs/simple_mh/bin/python\n"
     ]
    },
    {
     "ename": "SyntaxError",
     "evalue": "invalid decimal literal (jupyter.py, line 96)",
     "output_type": "error",
     "traceback": [
      "Traceback \u001b[0;36m(most recent call last)\u001b[0m:\n",
      "\u001b[0m  File \u001b[1;32m~/anaconda3/envs/simple_mh/lib/python3.10/site-packages/IPython/core/interactiveshell.py:3577\u001b[0m in \u001b[1;35mrun_code\u001b[0m\n    exec(code_obj, self.user_global_ns, self.user_ns)\u001b[0m\n",
      "\u001b[0m  Cell \u001b[1;32mIn[1], line 14\u001b[0m\n    from masthay_helpers.jupyter import iplot, plot_series, rules_one, rules_two\u001b[0m\n",
      "\u001b[0;36m  File \u001b[0;32m~/Documents/repos/masthay_helpers/masthay_helpers/__init__.py:4\u001b[0;36m\n\u001b[0;31m    from .jupyter import *\u001b[0;36m\n",
      "\u001b[0;36m  File \u001b[0;32m~/Documents/repos/masthay_helpers/masthay_helpers/jupyter.py:96\u001b[0;36m\u001b[0m\n\u001b[0;31m    >>>>>>> 9466b1a5c7e48b38a670b9c110aa4b6cc5649c81\u001b[0m\n\u001b[0m               ^\u001b[0m\n\u001b[0;31mSyntaxError\u001b[0m\u001b[0;31m:\u001b[0m invalid decimal literal\n"
     ]
    }
   ],
   "source": [
    "import sys\n",
    "print(sys.executable)\n",
    "import pandas as pd\n",
    "import panel as pn\n",
    "import holoviews as hv\n",
    "import numpy as np\n",
    "import panel as pn\n",
    "import torch\n",
    "import rich.traceback\n",
    "\n",
    "# rich.traceback.install(show_locals=True)\n",
    "\n",
    "sys.path.append(\"/home/tyler/Documents/repos/masthay_helpers\")\n",
    "from masthay_helpers.jupyter import iplot, plot_series, rules_one, rules_two\n",
    "from returns.curry import curry"
   ]
  },
  {
   "cell_type": "code",
   "execution_count": null,
   "id": "733ef049-eb17-4d65-9815-1e0f76fc68f1",
   "metadata": {},
   "outputs": [],
   "source": [
    "# Necessary setup from panel -- read docs if this confuses you.\n",
    "pn.extension()\n",
    "\n",
    "# Seed for reproducibility\n",
    "np.random.seed(0)\n",
    "\n",
    "# Setup the shape and populate random data\n",
    "data_shape = (3, 50, 50, 30, 20)\n",
    "variance = 100000.0\n",
    "random_data = variance * torch.randn(*data_shape)\n",
    "hv.extension(\"matplotlib\")\n",
    "print(hv.Store.current_backend)"
   ]
  },
  {
   "cell_type": "code",
   "execution_count": null,
   "id": "d672316f",
   "metadata": {},
   "outputs": [],
   "source": []
  },
  {
   "cell_type": "code",
   "execution_count": null,
   "id": "5ccb819b-5ebf-4fec-83d6-ce311551e483",
   "metadata": {},
   "outputs": [],
   "source": [
    "labels = [f\"Random_Data_{i}\" for i in range(data_shape[0])]\n",
    "column_names = [\"shot_no\", \"receiver_idx\", \"nonphysical_dummy\", \"time sample\"]\n",
    "rules = {\n",
    "    \"one\": rules_one(\n",
    "        opts_info={\"yscale\": {\"args\": (\"linear\",), \"kwargs\": {}}},\n",
    "        loop_info={\"labels\": labels},\n",
    "    ),\n",
    "    \"two\": rules_two(\n",
    "        opts_info={\"colorbar\": True},\n",
    "        loop_info={\"labels\": labels, \"yscale\": \"symlog\"},\n",
    "    ),\n",
    "}"
   ]
  },
  {
   "cell_type": "code",
   "execution_count": null,
   "id": "678aa15a",
   "metadata": {},
   "outputs": [],
   "source": [
    "import inspect\n",
    "\n",
    "u = plot_series(data=random_data, rules=rules, idx=[0, 0, 0])\n",
    "print(inspect.signature(u))"
   ]
  },
  {
   "cell_type": "markdown",
   "id": "75ffa1a0",
   "metadata": {},
   "source": []
  },
  {
   "cell_type": "code",
   "execution_count": null,
   "id": "70691b30",
   "metadata": {},
   "outputs": [],
   "source": [
    "layout = iplot(data=random_data, column_names=column_names, cols=2, rules=rules)\n",
    "layout.servable()"
   ]
  },
  {
   "cell_type": "code",
   "execution_count": null,
   "id": "36dcbc8c",
   "metadata": {
    "editable": true,
    "slideshow": {
     "slide_type": ""
    },
    "tags": []
   },
   "outputs": [],
   "source": []
  }
 ],
 "metadata": {
  "kernelspec": {
   "display_name": "Python 3 (ipykernel)",
   "language": "python",
   "name": "python3"
  },
  "language_info": {
   "codemirror_mode": {
    "name": "ipython",
    "version": 3
   },
   "file_extension": ".py",
   "mimetype": "text/x-python",
   "name": "python",
   "nbconvert_exporter": "python",
   "pygments_lexer": "ipython3",
   "version": "3.10.14"
  }
 },
 "nbformat": 4,
 "nbformat_minor": 5
}
