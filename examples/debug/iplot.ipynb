{
 "cells": [
  {
   "cell_type": "code",
   "execution_count": null,
   "id": "a0d3fb51-db95-49a6-ada7-d69e04faf4a3",
   "metadata": {},
   "outputs": [],
   "source": [
    "import pandas as pd\n",
    "import panel as pn\n",
    "import holoviews as hv\n",
    "import numpy as np\n",
    "import panel as pn\n",
    "import torch\n",
    "from masthay_helpers.jupyter import iplot"
   ]
  },
  {
   "cell_type": "code",
   "execution_count": null,
   "id": "733ef049-eb17-4d65-9815-1e0f76fc68f1",
   "metadata": {},
   "outputs": [],
   "source": [
    "# Necessary setup from panel -- read docs if this confuses you.\n",
    "pn.extension()\n",
    "\n",
    "# Seed for reproducibility\n",
    "np.random.seed(0)\n",
    "\n",
    "# Setup the shape and populate random data\n",
    "data_shape = (3, 50, 50, 30, 20)\n",
    "random_data = torch.randn(*data_shape)"
   ]
  },
  {
   "cell_type": "code",
   "execution_count": null,
   "id": "5ccb819b-5ebf-4fec-83d6-ce311551e483",
   "metadata": {},
   "outputs": [],
   "source": [
    "labels = [f'Random_Data_{i}' for i in range(data_shape[0])]\n",
    "column_names = ['shot_no', 'receiver_idx', 'nonphysical_dummy', 'time sample']\n",
    "\n",
    "layout = iplot(\n",
    "    data=random_data,\n",
    "    column_names=column_names,\n",
    "    cols=2,\n",
    "    one={\n",
    "        'ylabel': \"Acoustic Amplitude\",\n",
    "        'loop': {'labels': labels},\n",
    "        'ylim': (random_data.min().item(), random_data.max().item()),\n",
    "        'width': 600,\n",
    "        'height': 600,\n",
    "    },\n",
    "    two={\n",
    "        'loop': {'colorbar': True, 'labels': labels},\n",
    "        'width': 600,\n",
    "        'height': 600,\n",
    "    },\n",
    ")\n",
    "layout.servable()"
   ]
  }
 ],
 "metadata": {
  "kernelspec": {
   "display_name": "Python 3 (ipykernel)",
   "language": "python",
   "name": "python3"
  },
  "language_info": {
   "codemirror_mode": {
    "name": "ipython",
    "version": 3
   },
   "file_extension": ".py",
   "mimetype": "text/x-python",
   "name": "python",
   "nbconvert_exporter": "python",
   "pygments_lexer": "ipython3",
   "version": "3.10.12"
  }
 },
 "nbformat": 4,
 "nbformat_minor": 5
}
