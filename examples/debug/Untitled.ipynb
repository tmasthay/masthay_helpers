{
 "cells": [
  {
   "cell_type": "code",
   "execution_count": 13,
   "id": "447250f9-f0f9-420e-8ba0-adfedb3aad90",
   "metadata": {},
   "outputs": [],
   "source": [
    "import torch\n",
    "import numpy as np\n",
    "import hvplot.pandas  # Import hvplot for pandas\n",
    "import pandas as pd\n",
    "import panel as pn\n",
    "import holoviews as hv  # Import Holoviews\n",
    "import xarray as xr  # Import xarray for creating a labeled multi-dimensional array"
   ]
  },
  {
   "cell_type": "code",
   "execution_count": 14,
   "id": "43d3ec71-4fd1-4dfd-a067-ea4ca9f9fec0",
   "metadata": {},
   "outputs": [],
   "source": [
    "# Hardcoded parameters\n",
    "n_shots = 16\n",
    "n_receivers = 100\n",
    "n_time_samples = 300\n",
    "noise_std_dev = 0.1  # Standard deviation of Gaussian noise\n",
    "central_frequency = 10.0  # Frequency of Ricker wavelet"
   ]
  },
  {
   "cell_type": "code",
   "execution_count": 15,
   "id": "efc2fb0b-2db5-446a-93ba-844fbf77e977",
   "metadata": {},
   "outputs": [],
   "source": [
    "# Function to generate a Ricker wavelet\n",
    "def ricker(frequency, length, dt):\n",
    "    t = np.arange(0, length) * dt - (length * dt / 2)\n",
    "    y = (1 - 2 * (np.pi**2) * (frequency**2) * (t**2)) * np.exp(\n",
    "        -(np.pi**2) * (frequency**2) * (t**2)\n",
    "    )\n",
    "    return y\n",
    "\n",
    "# Generate base data\n",
    "wavelet = torch.tensor(\n",
    "    ricker(central_frequency, n_time_samples, 1 / n_time_samples)\n",
    ")\n",
    "obs_data = wavelet[None, None, :] + noise_std_dev * torch.randn(\n",
    "    n_shots, n_receivers, n_time_samples\n",
    ")\n",
    "\n",
    "# Convert to DataFrame for hvPlot\n",
    "data_frame = pd.DataFrame(obs_data.numpy().reshape(-1, n_time_samples))"
   ]
  },
  {
   "cell_type": "code",
   "execution_count": 16,
   "id": "6456ce71-d5aa-46b4-9f29-728c0910777a",
   "metadata": {},
   "outputs": [],
   "source": [
    "def plot_1D(shot_index, receiver_index):\n",
    "    return data_frame.iloc[shot_index * n_receivers + receiver_index].hvplot()\n",
    "\n",
    "def plot_2D(shot_index):\n",
    "    # Convert the selected shot data to an xarray DataArray\n",
    "    shot_data = xr.DataArray(\n",
    "        obs_data[shot_index].numpy(),\n",
    "        dims=(\"receiver\", \"time\"),\n",
    "        coords={\"receiver\": range(n_receivers), \"time\": range(n_time_samples)}\n",
    "    )\n",
    "    return hv.Image(shot_data, kdims=['receiver', 'time']).opts(cmap='viridis', colorbar=True, width=600, height=400)"
   ]
  },
  {
   "cell_type": "code",
   "execution_count": 17,
   "id": "fed6b8e1-30df-4e59-8d17-28b427829603",
   "metadata": {},
   "outputs": [],
   "source": [
    "dim_selector = pn.widgets.RadioBoxGroup(\n",
    "    name='Dimension', options=['1D', '2D'], inline=True\n",
    ")\n",
    "shot_slider = pn.widgets.IntSlider(name='Shot Index', start=0, end=n_shots - 1)\n",
    "receiver_slider = pn.widgets.IntSlider(\n",
    "    name='Receiver Index', start=0, end=n_receivers - 1\n",
    ")\n",
    "\n",
    "\n",
    "@pn.depends(\n",
    "    dim_selector.param.value,\n",
    "    shot_slider.param.value,\n",
    "    receiver_slider.param.value,\n",
    ")\n",
    "def reactive_plot(dim, shot_idx, receiver_idx):\n",
    "    if dim == '1D':\n",
    "        return plot_1D(shot_idx, receiver_idx)\n",
    "    else:\n",
    "        return plot_2D(shot_idx)"
   ]
  },
  {
   "cell_type": "code",
   "execution_count": 18,
   "id": "ea2acd79-cff8-46e6-8a7c-8991df71be63",
   "metadata": {},
   "outputs": [
    {
     "name": "stderr",
     "output_type": "stream",
     "text": [
      "/home/tyler/anaconda3/envs/dw/lib/python3.10/site-packages/holoviews/core/data/pandas.py:39: FutureWarning: Series.__getitem__ treating keys as positions is deprecated. In a future version, integer keys will always be treated as labels (consistent with DataFrame behavior). To access a value by position, use `ser.iloc[pos]`\n",
      "  return dataset.data.dtypes[idx].type\n",
      "/home/tyler/anaconda3/envs/dw/lib/python3.10/site-packages/holoviews/core/data/pandas.py:39: FutureWarning: Series.__getitem__ treating keys as positions is deprecated. In a future version, integer keys will always be treated as labels (consistent with DataFrame behavior). To access a value by position, use `ser.iloc[pos]`\n",
      "  return dataset.data.dtypes[idx].type\n"
     ]
    },
    {
     "data": {},
     "metadata": {},
     "output_type": "display_data"
    },
    {
     "data": {},
     "metadata": {},
     "output_type": "display_data"
    },
    {
     "data": {
      "application/vnd.holoviews_exec.v0+json": "",
      "text/html": [
       "<div id='p12746'>\n",
       "  <div id=\"ad333e26-8acd-4737-9d08-9f1e015a1f44\" data-root-id=\"p12746\" style=\"display: contents;\"></div>\n",
       "</div>\n",
       "<script type=\"application/javascript\">(function(root) {\n",
       "  var docs_json = {\"71ad2550-ebde-43d3-b562-e49613939f08\":{\"version\":\"3.2.2\",\"title\":\"Bokeh Application\",\"roots\":[{\"type\":\"object\",\"name\":\"Row\",\"id\":\"p12746\",\"attributes\":{\"name\":\"Row20088\",\"stylesheets\":[\"\\n:host(.pn-loading.pn-arc):before, .pn-loading.pn-arc:before {\\n  background-image: url(\\\"data:image/svg+xml;base64,PHN2ZyB4bWxucz0iaHR0cDovL3d3dy53My5vcmcvMjAwMC9zdmciIHN0eWxlPSJtYXJnaW46IGF1dG87IGJhY2tncm91bmQ6IG5vbmU7IGRpc3BsYXk6IGJsb2NrOyBzaGFwZS1yZW5kZXJpbmc6IGF1dG87IiB2aWV3Qm94PSIwIDAgMTAwIDEwMCIgcHJlc2VydmVBc3BlY3RSYXRpbz0ieE1pZFlNaWQiPiAgPGNpcmNsZSBjeD0iNTAiIGN5PSI1MCIgZmlsbD0ibm9uZSIgc3Ryb2tlPSIjYzNjM2MzIiBzdHJva2Utd2lkdGg9IjEwIiByPSIzNSIgc3Ryb2tlLWRhc2hhcnJheT0iMTY0LjkzMzYxNDMxMzQ2NDE1IDU2Ljk3Nzg3MTQzNzgyMTM4Ij4gICAgPGFuaW1hdGVUcmFuc2Zvcm0gYXR0cmlidXRlTmFtZT0idHJhbnNmb3JtIiB0eXBlPSJyb3RhdGUiIHJlcGVhdENvdW50PSJpbmRlZmluaXRlIiBkdXI9IjFzIiB2YWx1ZXM9IjAgNTAgNTA7MzYwIDUwIDUwIiBrZXlUaW1lcz0iMDsxIj48L2FuaW1hdGVUcmFuc2Zvcm0+ICA8L2NpcmNsZT48L3N2Zz4=\\\");\\n  background-size: auto calc(min(50%, 400px));\\n}\",{\"type\":\"object\",\"name\":\"ImportedStyleSheet\",\"id\":\"p12750\",\"attributes\":{\"url\":\"https://cdn.holoviz.org/panel/1.2.3/dist/css/loading.css\"}},{\"type\":\"object\",\"name\":\"ImportedStyleSheet\",\"id\":\"p12757\",\"attributes\":{\"url\":\"https://cdn.holoviz.org/panel/1.2.3/dist/css/listpanel.css\"}},{\"type\":\"object\",\"name\":\"ImportedStyleSheet\",\"id\":\"p12748\",\"attributes\":{\"url\":\"https://cdn.holoviz.org/panel/1.2.3/dist/bundled/theme/default.css\"}},{\"type\":\"object\",\"name\":\"ImportedStyleSheet\",\"id\":\"p12749\",\"attributes\":{\"url\":\"https://cdn.holoviz.org/panel/1.2.3/dist/bundled/theme/native.css\"}}],\"margin\":0,\"align\":\"start\",\"children\":[{\"type\":\"object\",\"name\":\"panel.models.layout.Column\",\"id\":\"p12747\",\"attributes\":{\"name\":\"Column19977\",\"stylesheets\":[\"\\n:host(.pn-loading.pn-arc):before, .pn-loading.pn-arc:before {\\n  background-image: url(\\\"data:image/svg+xml;base64,PHN2ZyB4bWxucz0iaHR0cDovL3d3dy53My5vcmcvMjAwMC9zdmciIHN0eWxlPSJtYXJnaW46IGF1dG87IGJhY2tncm91bmQ6IG5vbmU7IGRpc3BsYXk6IGJsb2NrOyBzaGFwZS1yZW5kZXJpbmc6IGF1dG87IiB2aWV3Qm94PSIwIDAgMTAwIDEwMCIgcHJlc2VydmVBc3BlY3RSYXRpbz0ieE1pZFlNaWQiPiAgPGNpcmNsZSBjeD0iNTAiIGN5PSI1MCIgZmlsbD0ibm9uZSIgc3Ryb2tlPSIjYzNjM2MzIiBzdHJva2Utd2lkdGg9IjEwIiByPSIzNSIgc3Ryb2tlLWRhc2hhcnJheT0iMTY0LjkzMzYxNDMxMzQ2NDE1IDU2Ljk3Nzg3MTQzNzgyMTM4Ij4gICAgPGFuaW1hdGVUcmFuc2Zvcm0gYXR0cmlidXRlTmFtZT0idHJhbnNmb3JtIiB0eXBlPSJyb3RhdGUiIHJlcGVhdENvdW50PSJpbmRlZmluaXRlIiBkdXI9IjFzIiB2YWx1ZXM9IjAgNTAgNTA7MzYwIDUwIDUwIiBrZXlUaW1lcz0iMDsxIj48L2FuaW1hdGVUcmFuc2Zvcm0+ICA8L2NpcmNsZT48L3N2Zz4=\\\");\\n  background-size: auto calc(min(50%, 400px));\\n}\",{\"id\":\"p12750\"},{\"id\":\"p12757\"},{\"id\":\"p12748\"},{\"id\":\"p12749\"}],\"margin\":0,\"align\":\"start\",\"children\":[{\"type\":\"object\",\"name\":\"RadioGroup\",\"id\":\"p12751\",\"attributes\":{\"stylesheets\":[\"\\n:host(.pn-loading.pn-arc):before, .pn-loading.pn-arc:before {\\n  background-image: url(\\\"data:image/svg+xml;base64,PHN2ZyB4bWxucz0iaHR0cDovL3d3dy53My5vcmcvMjAwMC9zdmciIHN0eWxlPSJtYXJnaW46IGF1dG87IGJhY2tncm91bmQ6IG5vbmU7IGRpc3BsYXk6IGJsb2NrOyBzaGFwZS1yZW5kZXJpbmc6IGF1dG87IiB2aWV3Qm94PSIwIDAgMTAwIDEwMCIgcHJlc2VydmVBc3BlY3RSYXRpbz0ieE1pZFlNaWQiPiAgPGNpcmNsZSBjeD0iNTAiIGN5PSI1MCIgZmlsbD0ibm9uZSIgc3Ryb2tlPSIjYzNjM2MzIiBzdHJva2Utd2lkdGg9IjEwIiByPSIzNSIgc3Ryb2tlLWRhc2hhcnJheT0iMTY0LjkzMzYxNDMxMzQ2NDE1IDU2Ljk3Nzg3MTQzNzgyMTM4Ij4gICAgPGFuaW1hdGVUcmFuc2Zvcm0gYXR0cmlidXRlTmFtZT0idHJhbnNmb3JtIiB0eXBlPSJyb3RhdGUiIHJlcGVhdENvdW50PSJpbmRlZmluaXRlIiBkdXI9IjFzIiB2YWx1ZXM9IjAgNTAgNTA7MzYwIDUwIDUwIiBrZXlUaW1lcz0iMDsxIj48L2FuaW1hdGVUcmFuc2Zvcm0+ICA8L2NpcmNsZT48L3N2Zz4=\\\");\\n  background-size: auto calc(min(50%, 400px));\\n}\",{\"id\":\"p12750\"},{\"id\":\"p12748\"},{\"id\":\"p12749\"}],\"margin\":[5,10],\"align\":\"start\",\"labels\":[\"1D\",\"2D\"],\"inline\":true,\"active\":0}},{\"type\":\"object\",\"name\":\"Slider\",\"id\":\"p12753\",\"attributes\":{\"stylesheets\":[\"\\n:host(.pn-loading.pn-arc):before, .pn-loading.pn-arc:before {\\n  background-image: url(\\\"data:image/svg+xml;base64,PHN2ZyB4bWxucz0iaHR0cDovL3d3dy53My5vcmcvMjAwMC9zdmciIHN0eWxlPSJtYXJnaW46IGF1dG87IGJhY2tncm91bmQ6IG5vbmU7IGRpc3BsYXk6IGJsb2NrOyBzaGFwZS1yZW5kZXJpbmc6IGF1dG87IiB2aWV3Qm94PSIwIDAgMTAwIDEwMCIgcHJlc2VydmVBc3BlY3RSYXRpbz0ieE1pZFlNaWQiPiAgPGNpcmNsZSBjeD0iNTAiIGN5PSI1MCIgZmlsbD0ibm9uZSIgc3Ryb2tlPSIjYzNjM2MzIiBzdHJva2Utd2lkdGg9IjEwIiByPSIzNSIgc3Ryb2tlLWRhc2hhcnJheT0iMTY0LjkzMzYxNDMxMzQ2NDE1IDU2Ljk3Nzg3MTQzNzgyMTM4Ij4gICAgPGFuaW1hdGVUcmFuc2Zvcm0gYXR0cmlidXRlTmFtZT0idHJhbnNmb3JtIiB0eXBlPSJyb3RhdGUiIHJlcGVhdENvdW50PSJpbmRlZmluaXRlIiBkdXI9IjFzIiB2YWx1ZXM9IjAgNTAgNTA7MzYwIDUwIDUwIiBrZXlUaW1lcz0iMDsxIj48L2FuaW1hdGVUcmFuc2Zvcm0+ICA8L2NpcmNsZT48L3N2Zz4=\\\");\\n  background-size: auto calc(min(50%, 400px));\\n}\",{\"id\":\"p12750\"},{\"id\":\"p12748\"},{\"id\":\"p12749\"}],\"margin\":[5,10],\"align\":\"start\",\"title\":\"Shot Index\",\"start\":0,\"end\":15,\"value\":0}},{\"type\":\"object\",\"name\":\"Slider\",\"id\":\"p12755\",\"attributes\":{\"stylesheets\":[\"\\n:host(.pn-loading.pn-arc):before, .pn-loading.pn-arc:before {\\n  background-image: url(\\\"data:image/svg+xml;base64,PHN2ZyB4bWxucz0iaHR0cDovL3d3dy53My5vcmcvMjAwMC9zdmciIHN0eWxlPSJtYXJnaW46IGF1dG87IGJhY2tncm91bmQ6IG5vbmU7IGRpc3BsYXk6IGJsb2NrOyBzaGFwZS1yZW5kZXJpbmc6IGF1dG87IiB2aWV3Qm94PSIwIDAgMTAwIDEwMCIgcHJlc2VydmVBc3BlY3RSYXRpbz0ieE1pZFlNaWQiPiAgPGNpcmNsZSBjeD0iNTAiIGN5PSI1MCIgZmlsbD0ibm9uZSIgc3Ryb2tlPSIjYzNjM2MzIiBzdHJva2Utd2lkdGg9IjEwIiByPSIzNSIgc3Ryb2tlLWRhc2hhcnJheT0iMTY0LjkzMzYxNDMxMzQ2NDE1IDU2Ljk3Nzg3MTQzNzgyMTM4Ij4gICAgPGFuaW1hdGVUcmFuc2Zvcm0gYXR0cmlidXRlTmFtZT0idHJhbnNmb3JtIiB0eXBlPSJyb3RhdGUiIHJlcGVhdENvdW50PSJpbmRlZmluaXRlIiBkdXI9IjFzIiB2YWx1ZXM9IjAgNTAgNTA7MzYwIDUwIDUwIiBrZXlUaW1lcz0iMDsxIj48L2FuaW1hdGVUcmFuc2Zvcm0+ICA8L2NpcmNsZT48L3N2Zz4=\\\");\\n  background-size: auto calc(min(50%, 400px));\\n}\",{\"id\":\"p12750\"},{\"id\":\"p12748\"},{\"id\":\"p12749\"}],\"margin\":[5,10],\"align\":\"start\",\"title\":\"Receiver Index\",\"start\":0,\"end\":99,\"value\":0}}]}},{\"type\":\"object\",\"name\":\"panel.models.layout.Column\",\"id\":\"p12758\",\"attributes\":{\"name\":\"Column19992\",\"stylesheets\":[\"\\n:host(.pn-loading.pn-arc):before, .pn-loading.pn-arc:before {\\n  background-image: url(\\\"data:image/svg+xml;base64,PHN2ZyB4bWxucz0iaHR0cDovL3d3dy53My5vcmcvMjAwMC9zdmciIHN0eWxlPSJtYXJnaW46IGF1dG87IGJhY2tncm91bmQ6IG5vbmU7IGRpc3BsYXk6IGJsb2NrOyBzaGFwZS1yZW5kZXJpbmc6IGF1dG87IiB2aWV3Qm94PSIwIDAgMTAwIDEwMCIgcHJlc2VydmVBc3BlY3RSYXRpbz0ieE1pZFlNaWQiPiAgPGNpcmNsZSBjeD0iNTAiIGN5PSI1MCIgZmlsbD0ibm9uZSIgc3Ryb2tlPSIjYzNjM2MzIiBzdHJva2Utd2lkdGg9IjEwIiByPSIzNSIgc3Ryb2tlLWRhc2hhcnJheT0iMTY0LjkzMzYxNDMxMzQ2NDE1IDU2Ljk3Nzg3MTQzNzgyMTM4Ij4gICAgPGFuaW1hdGVUcmFuc2Zvcm0gYXR0cmlidXRlTmFtZT0idHJhbnNmb3JtIiB0eXBlPSJyb3RhdGUiIHJlcGVhdENvdW50PSJpbmRlZmluaXRlIiBkdXI9IjFzIiB2YWx1ZXM9IjAgNTAgNTA7MzYwIDUwIDUwIiBrZXlUaW1lcz0iMDsxIj48L2FuaW1hdGVUcmFuc2Zvcm0+ICA8L2NpcmNsZT48L3N2Zz4=\\\");\\n  background-size: auto calc(min(50%, 400px));\\n}\",{\"id\":\"p12750\"},{\"id\":\"p12757\"},{\"id\":\"p12748\"},{\"id\":\"p12749\"}],\"margin\":0,\"sizing_mode\":\"fixed\",\"align\":\"start\",\"children\":[{\"type\":\"object\",\"name\":\"Figure\",\"id\":\"p12766\",\"attributes\":{\"name\":\"ParamFunction19980\",\"width\":700,\"height\":300,\"margin\":[5,10],\"sizing_mode\":\"fixed\",\"align\":\"start\",\"x_range\":{\"type\":\"object\",\"name\":\"Range1d\",\"id\":\"p12759\",\"attributes\":{\"tags\":[[[\"index\",\"index\",null]],[]],\"end\":299.0,\"reset_start\":0.0,\"reset_end\":299.0}},\"y_range\":{\"type\":\"object\",\"name\":\"Range1d\",\"id\":\"p12760\",\"attributes\":{\"tags\":[[[\"0\",\"0\",null]],{\"type\":\"map\",\"entries\":[[\"invert_yaxis\",false],[\"autorange\",false]]}],\"start\":-0.7798232946328366,\"end\":1.2841258357668783,\"reset_start\":-0.7798232946328366,\"reset_end\":1.2841258357668783}},\"x_scale\":{\"type\":\"object\",\"name\":\"LinearScale\",\"id\":\"p12776\"},\"y_scale\":{\"type\":\"object\",\"name\":\"LinearScale\",\"id\":\"p12777\"},\"title\":{\"type\":\"object\",\"name\":\"Title\",\"id\":\"p12769\",\"attributes\":{\"text\":\"0\",\"text_color\":\"black\",\"text_font_size\":\"12pt\"}},\"renderers\":[{\"type\":\"object\",\"name\":\"GlyphRenderer\",\"id\":\"p12802\",\"attributes\":{\"data_source\":{\"type\":\"object\",\"name\":\"ColumnDataSource\",\"id\":\"p12793\",\"attributes\":{\"selected\":{\"type\":\"object\",\"name\":\"Selection\",\"id\":\"p12794\",\"attributes\":{\"indices\":[],\"line_indices\":[]}},\"selection_policy\":{\"type\":\"object\",\"name\":\"UnionRenderers\",\"id\":\"p12795\"},\"data\":{\"type\":\"map\",\"entries\":[[\"index\",{\"type\":\"ndarray\",\"array\":{\"type\":\"bytes\",\"data\":\"AAAAAAEAAAACAAAAAwAAAAQAAAAFAAAABgAAAAcAAAAIAAAACQAAAAoAAAALAAAADAAAAA0AAAAOAAAADwAAABAAAAARAAAAEgAAABMAAAAUAAAAFQAAABYAAAAXAAAAGAAAABkAAAAaAAAAGwAAABwAAAAdAAAAHgAAAB8AAAAgAAAAIQAAACIAAAAjAAAAJAAAACUAAAAmAAAAJwAAACgAAAApAAAAKgAAACsAAAAsAAAALQAAAC4AAAAvAAAAMAAAADEAAAAyAAAAMwAAADQAAAA1AAAANgAAADcAAAA4AAAAOQAAADoAAAA7AAAAPAAAAD0AAAA+AAAAPwAAAEAAAABBAAAAQgAAAEMAAABEAAAARQAAAEYAAABHAAAASAAAAEkAAABKAAAASwAAAEwAAABNAAAATgAAAE8AAABQAAAAUQAAAFIAAABTAAAAVAAAAFUAAABWAAAAVwAAAFgAAABZAAAAWgAAAFsAAABcAAAAXQAAAF4AAABfAAAAYAAAAGEAAABiAAAAYwAAAGQAAABlAAAAZgAAAGcAAABoAAAAaQAAAGoAAABrAAAAbAAAAG0AAABuAAAAbwAAAHAAAABxAAAAcgAAAHMAAAB0AAAAdQAAAHYAAAB3AAAAeAAAAHkAAAB6AAAAewAAAHwAAAB9AAAAfgAAAH8AAACAAAAAgQAAAIIAAACDAAAAhAAAAIUAAACGAAAAhwAAAIgAAACJAAAAigAAAIsAAACMAAAAjQAAAI4AAACPAAAAkAAAAJEAAACSAAAAkwAAAJQAAACVAAAAlgAAAJcAAACYAAAAmQAAAJoAAACbAAAAnAAAAJ0AAACeAAAAnwAAAKAAAAChAAAAogAAAKMAAACkAAAApQAAAKYAAACnAAAAqAAAAKkAAACqAAAAqwAAAKwAAACtAAAArgAAAK8AAACwAAAAsQAAALIAAACzAAAAtAAAALUAAAC2AAAAtwAAALgAAAC5AAAAugAAALsAAAC8AAAAvQAAAL4AAAC/AAAAwAAAAMEAAADCAAAAwwAAAMQAAADFAAAAxgAAAMcAAADIAAAAyQAAAMoAAADLAAAAzAAAAM0AAADOAAAAzwAAANAAAADRAAAA0gAAANMAAADUAAAA1QAAANYAAADXAAAA2AAAANkAAADaAAAA2wAAANwAAADdAAAA3gAAAN8AAADgAAAA4QAAAOIAAADjAAAA5AAAAOUAAADmAAAA5wAAAOgAAADpAAAA6gAAAOsAAADsAAAA7QAAAO4AAADvAAAA8AAAAPEAAADyAAAA8wAAAPQAAAD1AAAA9gAAAPcAAAD4AAAA+QAAAPoAAAD7AAAA/AAAAP0AAAD+AAAA/wAAAAABAAABAQAAAgEAAAMBAAAEAQAABQEAAAYBAAAHAQAACAEAAAkBAAAKAQAACwEAAAwBAAANAQAADgEAAA8BAAAQAQAAEQEAABIBAAATAQAAFAEAABUBAAAWAQAAFwEAABgBAAAZAQAAGgEAABsBAAAcAQAAHQEAAB4BAAAfAQAAIAEAACEBAAAiAQAAIwEAACQBAAAlAQAAJgEAACcBAAAoAQAAKQEAACoBAAArAQAA\"},\"shape\":[300],\"dtype\":\"int32\",\"order\":\"little\"}],[\"0\",{\"type\":\"ndarray\",\"array\":{\"type\":\"bytes\",\"data\":\"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\"},\"shape\":[300],\"dtype\":\"float64\",\"order\":\"little\"}],[\"A_0\",{\"type\":\"ndarray\",\"array\":{\"type\":\"bytes\",\"data\":\"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\"},\"shape\":[300],\"dtype\":\"float64\",\"order\":\"little\"}]]}}},\"view\":{\"type\":\"object\",\"name\":\"CDSView\",\"id\":\"p12803\",\"attributes\":{\"filter\":{\"type\":\"object\",\"name\":\"AllIndices\",\"id\":\"p12804\"}}},\"glyph\":{\"type\":\"object\",\"name\":\"Line\",\"id\":\"p12799\",\"attributes\":{\"tags\":[\"apply_ranges\"],\"x\":{\"type\":\"field\",\"field\":\"index\"},\"y\":{\"type\":\"field\",\"field\":\"0\"},\"line_color\":\"#30a2da\",\"line_width\":2}},\"selection_glyph\":{\"type\":\"object\",\"name\":\"Line\",\"id\":\"p12805\",\"attributes\":{\"tags\":[\"apply_ranges\"],\"x\":{\"type\":\"field\",\"field\":\"index\"},\"y\":{\"type\":\"field\",\"field\":\"0\"},\"line_color\":\"#30a2da\",\"line_width\":2}},\"nonselection_glyph\":{\"type\":\"object\",\"name\":\"Line\",\"id\":\"p12800\",\"attributes\":{\"tags\":[\"apply_ranges\"],\"x\":{\"type\":\"field\",\"field\":\"index\"},\"y\":{\"type\":\"field\",\"field\":\"0\"},\"line_color\":\"#30a2da\",\"line_alpha\":0.1,\"line_width\":2}},\"muted_glyph\":{\"type\":\"object\",\"name\":\"Line\",\"id\":\"p12801\",\"attributes\":{\"tags\":[\"apply_ranges\"],\"x\":{\"type\":\"field\",\"field\":\"index\"},\"y\":{\"type\":\"field\",\"field\":\"0\"},\"line_color\":\"#30a2da\",\"line_alpha\":0.2,\"line_width\":2}}}}],\"toolbar\":{\"type\":\"object\",\"name\":\"Toolbar\",\"id\":\"p12775\",\"attributes\":{\"tools\":[{\"type\":\"object\",\"name\":\"WheelZoomTool\",\"id\":\"p12764\",\"attributes\":{\"tags\":[\"hv_created\"],\"zoom_together\":\"none\"}},{\"type\":\"object\",\"name\":\"HoverTool\",\"id\":\"p12765\",\"attributes\":{\"tags\":[\"hv_created\"],\"renderers\":[{\"id\":\"p12802\"}],\"tooltips\":[[\"index\",\"@{index}\"],[\"0\",\"@{A_0}\"]]}},{\"type\":\"object\",\"name\":\"SaveTool\",\"id\":\"p12788\"},{\"type\":\"object\",\"name\":\"PanTool\",\"id\":\"p12789\"},{\"type\":\"object\",\"name\":\"BoxZoomTool\",\"id\":\"p12790\",\"attributes\":{\"overlay\":{\"type\":\"object\",\"name\":\"BoxAnnotation\",\"id\":\"p12791\",\"attributes\":{\"syncable\":false,\"level\":\"overlay\",\"visible\":false,\"left_units\":\"canvas\",\"right_units\":\"canvas\",\"bottom_units\":\"canvas\",\"top_units\":\"canvas\",\"line_color\":\"black\",\"line_alpha\":1.0,\"line_width\":2,\"line_dash\":[4,4],\"fill_color\":\"lightgrey\",\"fill_alpha\":0.5}}}},{\"type\":\"object\",\"name\":\"ResetTool\",\"id\":\"p12792\"}],\"active_drag\":{\"id\":\"p12789\"},\"active_scroll\":{\"id\":\"p12764\"}}},\"left\":[{\"type\":\"object\",\"name\":\"LinearAxis\",\"id\":\"p12783\",\"attributes\":{\"ticker\":{\"type\":\"object\",\"name\":\"BasicTicker\",\"id\":\"p12784\",\"attributes\":{\"mantissas\":[1,2,5]}},\"formatter\":{\"type\":\"object\",\"name\":\"BasicTickFormatter\",\"id\":\"p12785\"},\"axis_label\":\"\",\"major_label_policy\":{\"type\":\"object\",\"name\":\"AllLabels\",\"id\":\"p12786\"}}}],\"below\":[{\"type\":\"object\",\"name\":\"LinearAxis\",\"id\":\"p12778\",\"attributes\":{\"ticker\":{\"type\":\"object\",\"name\":\"BasicTicker\",\"id\":\"p12779\",\"attributes\":{\"mantissas\":[1,2,5]}},\"formatter\":{\"type\":\"object\",\"name\":\"BasicTickFormatter\",\"id\":\"p12780\"},\"axis_label\":\"\",\"major_label_policy\":{\"type\":\"object\",\"name\":\"AllLabels\",\"id\":\"p12781\"}}}],\"center\":[{\"type\":\"object\",\"name\":\"Grid\",\"id\":\"p12782\",\"attributes\":{\"axis\":{\"id\":\"p12778\"},\"grid_line_color\":null}},{\"type\":\"object\",\"name\":\"Grid\",\"id\":\"p12787\",\"attributes\":{\"dimension\":1,\"axis\":{\"id\":\"p12783\"},\"grid_line_color\":null}}],\"min_border_top\":10,\"min_border_bottom\":10,\"min_border_left\":10,\"min_border_right\":10,\"output_backend\":\"webgl\"}}]}}]}},{\"type\":\"object\",\"name\":\"panel.models.comm_manager.CommManager\",\"id\":\"p12812\",\"attributes\":{\"plot_id\":\"p12746\",\"comm_id\":\"bf3f6920d9fc4b198c02164ca810d65a\",\"client_comm_id\":\"20cb7022f8c443b889594efd9d026422\"}}],\"defs\":[{\"type\":\"model\",\"name\":\"ReactiveHTML1\"},{\"type\":\"model\",\"name\":\"FlexBox1\",\"properties\":[{\"name\":\"align_content\",\"kind\":\"Any\",\"default\":\"flex-start\"},{\"name\":\"align_items\",\"kind\":\"Any\",\"default\":\"flex-start\"},{\"name\":\"flex_direction\",\"kind\":\"Any\",\"default\":\"row\"},{\"name\":\"flex_wrap\",\"kind\":\"Any\",\"default\":\"wrap\"},{\"name\":\"justify_content\",\"kind\":\"Any\",\"default\":\"flex-start\"}]},{\"type\":\"model\",\"name\":\"FloatPanel1\",\"properties\":[{\"name\":\"config\",\"kind\":\"Any\",\"default\":{\"type\":\"map\"}},{\"name\":\"contained\",\"kind\":\"Any\",\"default\":true},{\"name\":\"position\",\"kind\":\"Any\",\"default\":\"right-top\"},{\"name\":\"offsetx\",\"kind\":\"Any\",\"default\":null},{\"name\":\"offsety\",\"kind\":\"Any\",\"default\":null},{\"name\":\"theme\",\"kind\":\"Any\",\"default\":\"primary\"},{\"name\":\"status\",\"kind\":\"Any\",\"default\":\"normalized\"}]},{\"type\":\"model\",\"name\":\"GridStack1\",\"properties\":[{\"name\":\"mode\",\"kind\":\"Any\",\"default\":\"warn\"},{\"name\":\"ncols\",\"kind\":\"Any\",\"default\":null},{\"name\":\"nrows\",\"kind\":\"Any\",\"default\":null},{\"name\":\"allow_resize\",\"kind\":\"Any\",\"default\":true},{\"name\":\"allow_drag\",\"kind\":\"Any\",\"default\":true},{\"name\":\"state\",\"kind\":\"Any\",\"default\":[]}]},{\"type\":\"model\",\"name\":\"drag1\",\"properties\":[{\"name\":\"slider_width\",\"kind\":\"Any\",\"default\":5},{\"name\":\"slider_color\",\"kind\":\"Any\",\"default\":\"black\"},{\"name\":\"value\",\"kind\":\"Any\",\"default\":50}]},{\"type\":\"model\",\"name\":\"click1\",\"properties\":[{\"name\":\"terminal_output\",\"kind\":\"Any\",\"default\":\"\"},{\"name\":\"debug_name\",\"kind\":\"Any\",\"default\":\"\"},{\"name\":\"clears\",\"kind\":\"Any\",\"default\":0}]},{\"type\":\"model\",\"name\":\"FastWrapper1\",\"properties\":[{\"name\":\"object\",\"kind\":\"Any\",\"default\":null},{\"name\":\"style\",\"kind\":\"Any\",\"default\":null}]},{\"type\":\"model\",\"name\":\"NotificationAreaBase1\",\"properties\":[{\"name\":\"js_events\",\"kind\":\"Any\",\"default\":{\"type\":\"map\"}},{\"name\":\"position\",\"kind\":\"Any\",\"default\":\"bottom-right\"},{\"name\":\"_clear\",\"kind\":\"Any\",\"default\":0}]},{\"type\":\"model\",\"name\":\"NotificationArea1\",\"properties\":[{\"name\":\"js_events\",\"kind\":\"Any\",\"default\":{\"type\":\"map\"}},{\"name\":\"notifications\",\"kind\":\"Any\",\"default\":[]},{\"name\":\"position\",\"kind\":\"Any\",\"default\":\"bottom-right\"},{\"name\":\"_clear\",\"kind\":\"Any\",\"default\":0},{\"name\":\"types\",\"kind\":\"Any\",\"default\":[{\"type\":\"map\",\"entries\":[[\"type\",\"warning\"],[\"background\",\"#ffc107\"],[\"icon\",{\"type\":\"map\",\"entries\":[[\"className\",\"fas fa-exclamation-triangle\"],[\"tagName\",\"i\"],[\"color\",\"white\"]]}]]},{\"type\":\"map\",\"entries\":[[\"type\",\"info\"],[\"background\",\"#007bff\"],[\"icon\",{\"type\":\"map\",\"entries\":[[\"className\",\"fas fa-info-circle\"],[\"tagName\",\"i\"],[\"color\",\"white\"]]}]]}]}]},{\"type\":\"model\",\"name\":\"Notification\",\"properties\":[{\"name\":\"background\",\"kind\":\"Any\",\"default\":null},{\"name\":\"duration\",\"kind\":\"Any\",\"default\":3000},{\"name\":\"icon\",\"kind\":\"Any\",\"default\":null},{\"name\":\"message\",\"kind\":\"Any\",\"default\":\"\"},{\"name\":\"notification_type\",\"kind\":\"Any\",\"default\":null},{\"name\":\"_destroyed\",\"kind\":\"Any\",\"default\":false}]},{\"type\":\"model\",\"name\":\"TemplateActions1\",\"properties\":[{\"name\":\"open_modal\",\"kind\":\"Any\",\"default\":0},{\"name\":\"close_modal\",\"kind\":\"Any\",\"default\":0}]},{\"type\":\"model\",\"name\":\"BootstrapTemplateActions1\",\"properties\":[{\"name\":\"open_modal\",\"kind\":\"Any\",\"default\":0},{\"name\":\"close_modal\",\"kind\":\"Any\",\"default\":0}]},{\"type\":\"model\",\"name\":\"MaterialTemplateActions1\",\"properties\":[{\"name\":\"open_modal\",\"kind\":\"Any\",\"default\":0},{\"name\":\"close_modal\",\"kind\":\"Any\",\"default\":0}]}]}};\n",
       "  var render_items = [{\"docid\":\"71ad2550-ebde-43d3-b562-e49613939f08\",\"roots\":{\"p12746\":\"ad333e26-8acd-4737-9d08-9f1e015a1f44\"},\"root_ids\":[\"p12746\"]}];\n",
       "  var docs = Object.values(docs_json)\n",
       "  if (!docs) {\n",
       "    return\n",
       "  }\n",
       "  const py_version = docs[0].version.replace('rc', '-rc.').replace('.dev', '-dev.')\n",
       "  const is_dev = py_version.indexOf(\"+\") !== -1 || py_version.indexOf(\"-\") !== -1\n",
       "  function embed_document(root) {\n",
       "    var Bokeh = get_bokeh(root)\n",
       "    Bokeh.embed.embed_items_notebook(docs_json, render_items);\n",
       "    for (const render_item of render_items) {\n",
       "      for (const root_id of render_item.root_ids) {\n",
       "\tconst id_el = document.getElementById(root_id)\n",
       "\tif (id_el.children.length && (id_el.children[0].className === 'bk-root')) {\n",
       "\t  const root_el = id_el.children[0]\n",
       "\t  root_el.id = root_el.id + '-rendered'\n",
       "\t}\n",
       "      }\n",
       "    }\n",
       "  }\n",
       "  function get_bokeh(root) {\n",
       "    if (root.Bokeh === undefined) {\n",
       "      return null\n",
       "    } else if (root.Bokeh.version !== py_version && !is_dev) {\n",
       "      if (root.Bokeh.versions === undefined || !root.Bokeh.versions.has(py_version)) {\n",
       "\treturn null\n",
       "      }\n",
       "      return root.Bokeh.versions.get(py_version);\n",
       "    } else if (root.Bokeh.version === py_version) {\n",
       "      return root.Bokeh\n",
       "    }\n",
       "    return null\n",
       "  }\n",
       "  function is_loaded(root) {\n",
       "    var Bokeh = get_bokeh(root)\n",
       "    return (Bokeh != null && Bokeh.Panel !== undefined)\n",
       "  }\n",
       "  if (is_loaded(root)) {\n",
       "    embed_document(root);\n",
       "  } else {\n",
       "    var attempts = 0;\n",
       "    var timer = setInterval(function(root) {\n",
       "      if (is_loaded(root)) {\n",
       "        clearInterval(timer);\n",
       "        embed_document(root);\n",
       "      } else if (document.readyState == \"complete\") {\n",
       "        attempts++;\n",
       "        if (attempts > 200) {\n",
       "          clearInterval(timer);\n",
       "\t  var Bokeh = get_bokeh(root)\n",
       "\t  if (Bokeh == null || Bokeh.Panel == null) {\n",
       "            console.warn(\"Panel: ERROR: Unable to run Panel code because Bokeh or Panel library is missing\");\n",
       "\t  } else {\n",
       "\t    console.warn(\"Panel: WARNING: Attempting to render but not all required libraries could be resolved.\")\n",
       "\t    embed_document(root)\n",
       "\t  }\n",
       "        }\n",
       "      }\n",
       "    }, 25, root)\n",
       "  }\n",
       "})(window);</script>"
      ],
      "text/plain": [
       "Row\n",
       "    [0] Column\n",
       "        [0] RadioBoxGroup(inline=True, name='Dimension', options=['1D', '2D'], value='1D')\n",
       "        [1] IntSlider(end=15, name='Shot Index')\n",
       "        [2] IntSlider(end=99, name='Receiver Index')\n",
       "    [1] ParamFunction(function, _pane=HoloViews, defer_load=False)"
      ]
     },
     "execution_count": 18,
     "metadata": {
      "application/vnd.holoviews_exec.v0+json": {
       "id": "p12746"
      }
     },
     "output_type": "execute_result"
    }
   ],
   "source": [
    "layout = pn.Row(\n",
    "    pn.Column(dim_selector, shot_slider, receiver_slider), reactive_plot\n",
    ").servable()\n",
    "\n",
    "layout"
   ]
  },
  {
   "cell_type": "code",
   "execution_count": null,
   "id": "6e2264e8-e9d5-4f9c-96fa-d4b2823ffa01",
   "metadata": {},
   "outputs": [],
   "source": []
  }
 ],
 "metadata": {
  "kernelspec": {
   "display_name": "Python 3 (ipykernel)",
   "language": "python",
   "name": "python3"
  },
  "language_info": {
   "codemirror_mode": {
    "name": "ipython",
    "version": 3
   },
   "file_extension": ".py",
   "mimetype": "text/x-python",
   "name": "python",
   "nbconvert_exporter": "python",
   "pygments_lexer": "ipython3",
   "version": "3.10.12"
  }
 },
 "nbformat": 4,
 "nbformat_minor": 5
}
